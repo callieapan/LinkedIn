{
 "cells": [
  {
   "cell_type": "code",
   "execution_count": 1,
   "metadata": {
    "collapsed": true
   },
   "outputs": [],
   "source": [
    "import pandas as pd\n",
    "import numpy as np\n",
    "from LinkInfer import *\n",
    "\n",
    "from collections import Counter\n",
    "from scipy import linalg, mat, dot\n",
    "\n",
    "%load_ext autoreload\n",
    "%autoreload 2\n",
    "%load_ext autotime\n",
    "\n",
    "import time\n",
    "start = time.time()\n"
   ]
  },
  {
   "cell_type": "code",
   "execution_count": 2,
   "metadata": {},
   "outputs": [
    {
     "name": "stdout",
     "output_type": "stream",
     "text": [
      "time: 1.53 s\n"
     ]
    }
   ],
   "source": [
    "eduDf = pd.read_csv('education.csv')\n",
    "posDf = pd.read_csv('positions.csv')\n",
    "senDf = pd.read_csv('jobtitle_seniority.csv')"
   ]
  },
  {
   "cell_type": "code",
   "execution_count": 3,
   "metadata": {},
   "outputs": [
    {
     "name": "stdout",
     "output_type": "stream",
     "text": [
      "time: 1.35 ms\n"
     ]
    }
   ],
   "source": [
    "BAwlist = [ \"bachelor\", \"bachelor's\", \"BACHELOR\", \"BACHELOR'S\", \"Bachelor\", \"Bachelor's\", \"BA\", \"B.A.\", \"B.A\", \\\n",
    "          \"BS\", \"B.S.\", \"BSc\", \"B.Sc.\"]\n",
    "#MAwlist = [ \"master\", \"master's\", \"MASTER\", \"MASTER'S\", \"Master\", \"Master's\", \"MA\", \"M.A.\", \"M.A\", \"MSc\", \"M.S.\"\\\n",
    "#         \"MBA\", \"M.B.A.\"]\n",
    "MBAwlist = [\"MBA\", 'M.B.A', \"M.B.A.\"]"
   ]
  },
  {
   "cell_type": "code",
   "execution_count": 4,
   "metadata": {},
   "outputs": [
    {
     "name": "stdout",
     "output_type": "stream",
     "text": [
      "time: 23.9 s\n"
     ]
    }
   ],
   "source": [
    "eduDf[\"startyear\"] = eduDf[\"startdate\"].str[:4].astype(float)\n",
    "eduDf[\"endyear\"] = eduDf[\"enddate\"].str[:4].astype(float)\n",
    "eduDf['major'] = eduDf['major'].fillna(\"\")\n",
    "\n",
    "eduDf[\"hasbach\"] = eduDf.apply(hasBachDeg, degwlist = BAwlist, mbawlist = MBAwlist, axis = 1) \n",
    "#eduDf[\"hasmas\"] = eduDf.apply(hasMasDeg, degwlist = MAwlist, axis = 1) "
   ]
  },
  {
   "cell_type": "code",
   "execution_count": 5,
   "metadata": {},
   "outputs": [
    {
     "name": "stdout",
     "output_type": "stream",
     "text": [
      "number of user_id that do not have B.A. and no positions with dates 11386\n",
      "time: 283 ms\n"
     ]
    }
   ],
   "source": [
    "#first check the number of unique users in each table\n",
    "\n",
    "edu_all_user_id = set(eduDf.user_id.unique())\n",
    "edu_user_id_with_Bach = set(eduDf[eduDf[\"hasbach\"] == True][\"user_id\"].unique())\n",
    "edu_user_no_Bach = edu_all_user_id - edu_user_id_with_Bach\n",
    "\n",
    "\n",
    "pos_all_user_id = set(posDf.user_id.unique())\n",
    "sen_all_user_id = set(senDf.user_id.unique())\n",
    "\n",
    "no_Bach_no_pos_user_id = edu_user_no_Bach - pos_all_user_id\n",
    "print(\"number of user_id that do not have B.A. and no positions with dates {}\".format(len(no_Bach_no_pos_user_id)))"
   ]
  },
  {
   "cell_type": "code",
   "execution_count": 6,
   "metadata": {},
   "outputs": [
    {
     "name": "stdout",
     "output_type": "stream",
     "text": [
      "45048\n",
      "time: 1 ms\n"
     ]
    }
   ],
   "source": [
    "print(len(edu_user_id_with_Bach))"
   ]
  },
  {
   "cell_type": "code",
   "execution_count": 7,
   "metadata": {},
   "outputs": [
    {
     "name": "stdout",
     "output_type": "stream",
     "text": [
      "(39838, 3)\n",
      "time: 1min 5s\n"
     ]
    }
   ],
   "source": [
    "#calculat eacher user's first bachelor degree start year, if it exist, otherwise, Nan\n",
    "first_bach_Start = eduDf[eduDf['hasbach']].groupby('user_id').apply(findBachStart)\n",
    "\n",
    "#generate newDf,  users with bachelor degree, their first bachelor start year, and their age\n",
    "newDf = pd.DataFrame(data = first_bach_Start).reset_index()\n",
    "newDf.columns = ['user_id','first_bach_start_year']\n",
    "\n",
    "newDf['Age'] = (2019 - newDf['first_bach_start_year']) + 18\n",
    "newDf['T_or_P'] = 'True' #set all to True first\n",
    "#for those that do not have start date with any of their bachelor degrees, set them to predicted\n",
    "newDf.loc[newDf['Age'].isnull(),['T_or_P'] ]= \"Predicted\"\n",
    "\n",
    "#generate label_fin to be concatenated with other prediction DFs for final_Df later\n",
    "label_fin = newDf[newDf['T_or_P'] == 'True'][['user_id', 'Age', 'T_or_P']].copy()\n",
    "print(label_fin.shape)"
   ]
  },
  {
   "cell_type": "code",
   "execution_count": 8,
   "metadata": {},
   "outputs": [
    {
     "name": "stdout",
     "output_type": "stream",
     "text": [
      "time: 714 ms\n"
     ]
    }
   ],
   "source": [
    "#noticed that the same job title has the same seniority\n",
    "#outer join seniority and position dfs together\n",
    "senposDf = senDf.merge(posDf, left_on=['user_id', 'jobtitle'], right_on=['user_id', 'jobtitle'], how = 'outer' )"
   ]
  },
  {
   "cell_type": "code",
   "execution_count": 9,
   "metadata": {},
   "outputs": [
    {
     "data": {
      "text/plain": [
       "100000"
      ]
     },
     "execution_count": 9,
     "metadata": {},
     "output_type": "execute_result"
    },
    {
     "name": "stdout",
     "output_type": "stream",
     "text": [
      "time: 133 ms\n"
     ]
    }
   ],
   "source": [
    "#check number of unique users, 100,000 is correct\n",
    "senposDf.user_id.nunique()"
   ]
  },
  {
   "cell_type": "code",
   "execution_count": 10,
   "metadata": {},
   "outputs": [
    {
     "name": "stdout",
     "output_type": "stream",
     "text": [
      "time: 2min 6s\n"
     ]
    }
   ],
   "source": [
    "#genrate infoDf - Df with user's first job start year, min and max seniority\n",
    "#this takes 3 min \n",
    "infoDf = senposDf.groupby('user_id').apply(getfirstjob).reset_index()"
   ]
  },
  {
   "cell_type": "code",
   "execution_count": 11,
   "metadata": {},
   "outputs": [
    {
     "name": "stdout",
     "output_type": "stream",
     "text": [
      "time: 87.1 ms\n"
     ]
    }
   ],
   "source": [
    "#generate comDf, merges infoDf with the newDf\n",
    "comDf = infoDf.merge(newDf, how='left', left_on = 'user_id', right_on= 'user_id')\n",
    "\n",
    "#fill the na falues of T_or_P with \"Predicted\"\n",
    "comDf['T_or_P'] = comDf['T_or_P'].fillna('Predicted')"
   ]
  },
  {
   "cell_type": "code",
   "execution_count": 12,
   "metadata": {},
   "outputs": [
    {
     "name": "stdout",
     "output_type": "stream",
     "text": [
      "labeled users 39838\n",
      "prediction users 60162\n",
      "time: 35.3 ms\n"
     ]
    }
   ],
   "source": [
    "#generate the final label user (l_users) id and predction user id sets (p_users)\n",
    "#there are 39838 user_id with labels\n",
    "label_user_id = set(comDf[comDf['T_or_P'] == 'True']['user_id'].values)\n",
    "pred_user_id = edu_all_user_id - label_user_id\n",
    "print(\"labeled users {}\".format(len(label_user_id)))\n",
    "print(\"prediction users {}\".format(len(pred_user_id)))"
   ]
  },
  {
   "cell_type": "code",
   "execution_count": 13,
   "metadata": {},
   "outputs": [
    {
     "name": "stdout",
     "output_type": "stream",
     "text": [
      "nunber of prediction users that can use first job year for prediction\n",
      "46199\n",
      "number of outliers (31, 4)\n",
      "time: 33 s\n"
     ]
    }
   ],
   "source": [
    "#generate Age predictoins for p_users by taking the average age of l_users who have the same first job start year\n",
    "\n",
    "labelDf = comDf[comDf['user_id'].isin(label_user_id)].copy()\n",
    "predDf=comDf[comDf['user_id'].isin(pred_user_id)].copy()\n",
    "\n",
    "#to get the prediction by first_job_year match, merge the prediction and label dfs\n",
    "labelDf_fby = labelDf[labelDf['first_job_year'].isnull() == False] \n",
    "predDf_fby = predDf[predDf.first_job_year.isnull()==False]\n",
    "\n",
    "m_job_year =   predDf_fby[['user_id','first_job_year',\"T_or_P\"]].merge(\\\n",
    "    labelDf_fby[['user_id', 'first_job_year','Age']], \n",
    "    how = 'left', left_on = 'first_job_year', right_on =  'first_job_year')                                                                    \n",
    "\n",
    "##for subest of p_users that have first job year:\n",
    "#make the predictions by finding labeled users who have the same first job year as user, \n",
    "#taking mean of all labeled users's age\n",
    "pred_first_job = m_job_year.groupby(['user_id_x', 'first_job_year', 'T_or_P']).agg({'Age' : 'mean'}).reset_index()\n",
    "print('nunber of prediction users that can use first job year for prediction') #this should be 46199\n",
    "print(pred_first_job.user_id_x.nunique())\n",
    "\n",
    "#there are 31 first job start years that have no other l_users with the same start year, they are quite senior\n",
    "#array([1884., 1901., 1910., 1913., 1914., 1915., 1917., 1925., 1928.,\n",
    "#       1931., 1937., 1938., 1939., 1942., 1945., 1949., 1951., 1952.,\n",
    "#       1956., 1957., 2019.]\n",
    "#use rule age = first job start year + 22\n",
    "ttup = pred_first_job[pred_first_job['Age'].isnull()].shape\n",
    "print(\"number of outliers {}\".format(ttup))\n",
    "pred_first_job.loc[pred_first_job['Age'].isnull(), 'Age'] = \\\n",
    "    2019- pred_first_job.loc[pred_first_job['Age'].isnull(), 'first_job_year']+22"
   ]
  },
  {
   "cell_type": "code",
   "execution_count": 14,
   "metadata": {},
   "outputs": [
    {
     "name": "stdout",
     "output_type": "stream",
     "text": [
      "time: 10.5 ms\n"
     ]
    }
   ],
   "source": [
    "## genreate job_pred_fin, to be concatenated with the label_fin and sen_pred_fin later for final_Df\n",
    "job_pred_fin = pred_first_job[['user_id_x', 'Age', \"T_or_P\"]].rename(columns = {'user_id_x' : 'user_id'}).copy()\n"
   ]
  },
  {
   "cell_type": "code",
   "execution_count": 15,
   "metadata": {},
   "outputs": [
    {
     "data": {
      "text/html": [
       "<div>\n",
       "<style scoped>\n",
       "    .dataframe tbody tr th:only-of-type {\n",
       "        vertical-align: middle;\n",
       "    }\n",
       "\n",
       "    .dataframe tbody tr th {\n",
       "        vertical-align: top;\n",
       "    }\n",
       "\n",
       "    .dataframe thead th {\n",
       "        text-align: right;\n",
       "    }\n",
       "</style>\n",
       "<table border=\"1\" class=\"dataframe\">\n",
       "  <thead>\n",
       "    <tr style=\"text-align: right;\">\n",
       "      <th></th>\n",
       "      <th>user_id</th>\n",
       "      <th>Age</th>\n",
       "      <th>T_or_P</th>\n",
       "    </tr>\n",
       "  </thead>\n",
       "  <tbody>\n",
       "    <tr>\n",
       "      <td>0</td>\n",
       "      <td>++6+hv3i5RAVsrWO8q5JEQ5+2cvffV/mNepQVJd0smgtpB...</td>\n",
       "      <td>27.88006</td>\n",
       "      <td>Predicted</td>\n",
       "    </tr>\n",
       "    <tr>\n",
       "      <td>1</td>\n",
       "      <td>++9DtAOTiRRvECoMIpKbmg4ZM3TcQvn1bQ/jHgHWG0kf/b...</td>\n",
       "      <td>34.36000</td>\n",
       "      <td>Predicted</td>\n",
       "    </tr>\n",
       "  </tbody>\n",
       "</table>\n",
       "</div>"
      ],
      "text/plain": [
       "                                             user_id       Age     T_or_P\n",
       "0  ++6+hv3i5RAVsrWO8q5JEQ5+2cvffV/mNepQVJd0smgtpB...  27.88006  Predicted\n",
       "1  ++9DtAOTiRRvECoMIpKbmg4ZM3TcQvn1bQ/jHgHWG0kf/b...  34.36000  Predicted"
      ]
     },
     "execution_count": 15,
     "metadata": {},
     "output_type": "execute_result"
    },
    {
     "name": "stdout",
     "output_type": "stream",
     "text": [
      "time: 10.1 ms\n"
     ]
    }
   ],
   "source": [
    "#quick check\n",
    "job_pred_fin.head(2)"
   ]
  },
  {
   "cell_type": "code",
   "execution_count": 16,
   "metadata": {},
   "outputs": [
    {
     "name": "stdout",
     "output_type": "stream",
     "text": [
      "number of seniorty prediction users 13963\n",
      "time: 19.7 ms\n"
     ]
    }
   ],
   "source": [
    "## for subest of p_users without first job year, use the most similar l_user in min and max seniority (job title)\n",
    "# create a set for those p_users ids\n",
    "pred_first_job_id = set(job_pred_fin['user_id'])\n",
    "pred_sen_id = pred_user_id - pred_first_job_id\n",
    "print('number of seniorty prediction users {}'.format(len(pred_sen_id))) #should be 13963"
   ]
  },
  {
   "cell_type": "code",
   "execution_count": 17,
   "metadata": {},
   "outputs": [
    {
     "name": "stdout",
     "output_type": "stream",
     "text": [
      "time: 67.6 ms\n"
     ]
    }
   ],
   "source": [
    "#generate subset of label users Df and seniority prediction users Dfs\n",
    "comDf_pred_sen = comDf[comDf['user_id'].isin(pred_sen_id)].reset_index(drop=True)\n",
    "comDf_pred_sen['pred_user_id_idx'] = comDf_pred_sen.index\n",
    "                    \n",
    "comDf_label_sen = comDf[comDf['user_id'].isin(label_user_id)].reset_index(drop=True)\n",
    "comDf_label_sen['label_user_id_idx'] = comDf_label_sen.index"
   ]
  },
  {
   "cell_type": "code",
   "execution_count": 18,
   "metadata": {},
   "outputs": [
    {
     "data": {
      "text/html": [
       "<div>\n",
       "<style scoped>\n",
       "    .dataframe tbody tr th:only-of-type {\n",
       "        vertical-align: middle;\n",
       "    }\n",
       "\n",
       "    .dataframe tbody tr th {\n",
       "        vertical-align: top;\n",
       "    }\n",
       "\n",
       "    .dataframe thead th {\n",
       "        text-align: right;\n",
       "    }\n",
       "</style>\n",
       "<table border=\"1\" class=\"dataframe\">\n",
       "  <thead>\n",
       "    <tr style=\"text-align: right;\">\n",
       "      <th></th>\n",
       "      <th>user_id</th>\n",
       "      <th>first_job_year</th>\n",
       "      <th>min_sen</th>\n",
       "      <th>max_sen</th>\n",
       "      <th>first_bach_start_year</th>\n",
       "      <th>Age</th>\n",
       "      <th>T_or_P</th>\n",
       "      <th>pred_user_id_idx</th>\n",
       "    </tr>\n",
       "  </thead>\n",
       "  <tbody>\n",
       "    <tr>\n",
       "      <td>13960</td>\n",
       "      <td>zzPGPoJIYpHbwq8OAl+mIQ4ZM3TcQvn1bQ/jHgHWG0kf/b...</td>\n",
       "      <td>NaN</td>\n",
       "      <td>5.315111</td>\n",
       "      <td>7.782379</td>\n",
       "      <td>NaN</td>\n",
       "      <td>NaN</td>\n",
       "      <td>Predicted</td>\n",
       "      <td>13960</td>\n",
       "    </tr>\n",
       "    <tr>\n",
       "      <td>13961</td>\n",
       "      <td>zzrbQXjc2yHwbWjtQ9F3mg5+2cvffV/mNepQVJd0smgtpB...</td>\n",
       "      <td>NaN</td>\n",
       "      <td>2.490400</td>\n",
       "      <td>3.865393</td>\n",
       "      <td>NaN</td>\n",
       "      <td>NaN</td>\n",
       "      <td>Predicted</td>\n",
       "      <td>13961</td>\n",
       "    </tr>\n",
       "    <tr>\n",
       "      <td>13962</td>\n",
       "      <td>zzuZVPanBvW09lNk1C3h+Q5+2cvffV/mNepQVJd0smgtpB...</td>\n",
       "      <td>NaN</td>\n",
       "      <td>1.920548</td>\n",
       "      <td>5.609423</td>\n",
       "      <td>NaN</td>\n",
       "      <td>NaN</td>\n",
       "      <td>Predicted</td>\n",
       "      <td>13962</td>\n",
       "    </tr>\n",
       "  </tbody>\n",
       "</table>\n",
       "</div>"
      ],
      "text/plain": [
       "                                                 user_id  first_job_year  \\\n",
       "13960  zzPGPoJIYpHbwq8OAl+mIQ4ZM3TcQvn1bQ/jHgHWG0kf/b...             NaN   \n",
       "13961  zzrbQXjc2yHwbWjtQ9F3mg5+2cvffV/mNepQVJd0smgtpB...             NaN   \n",
       "13962  zzuZVPanBvW09lNk1C3h+Q5+2cvffV/mNepQVJd0smgtpB...             NaN   \n",
       "\n",
       "        min_sen   max_sen  first_bach_start_year  Age     T_or_P  \\\n",
       "13960  5.315111  7.782379                    NaN  NaN  Predicted   \n",
       "13961  2.490400  3.865393                    NaN  NaN  Predicted   \n",
       "13962  1.920548  5.609423                    NaN  NaN  Predicted   \n",
       "\n",
       "       pred_user_id_idx  \n",
       "13960             13960  \n",
       "13961             13961  \n",
       "13962             13962  "
      ]
     },
     "execution_count": 18,
     "metadata": {},
     "output_type": "execute_result"
    },
    {
     "name": "stdout",
     "output_type": "stream",
     "text": [
      "time: 9.98 ms\n"
     ]
    }
   ],
   "source": [
    "#quick chek\n",
    "comDf_pred_sen.tail(3) #check that all is fine"
   ]
  },
  {
   "cell_type": "code",
   "execution_count": 19,
   "metadata": {},
   "outputs": [
    {
     "name": "stdout",
     "output_type": "stream",
     "text": [
      "repeat dim 39838\n",
      "id_list length 13963\n",
      "time: 3min 38s\n"
     ]
    }
   ],
   "source": [
    "##generate the most similar l_user for each p_user, this takes 4 min\n",
    "id_list = findSenSimId(comDf_pred_sen, comDf_label_sen)"
   ]
  },
  {
   "cell_type": "code",
   "execution_count": 20,
   "metadata": {},
   "outputs": [
    {
     "name": "stdout",
     "output_type": "stream",
     "text": [
      "most similar id_index 224 and number of pred users 197\n",
      "Age of the most 'similar' label user\n",
      "30.0\n",
      "time: 208 ms\n"
     ]
    }
   ],
   "source": [
    "#check the results, there should be only 1 l_users that is most similar to more than 100 other users, and his/her age is 30\n",
    "id_list_cnt = Counter(id_list)\n",
    "for key, value in id_list_cnt.items():\n",
    "    if value > 100:\n",
    "         \n",
    "        print('most similar id_index {} and number of pred users {}'.format(key, value))\n",
    "        print(\"Age of the most 'similar' label user\")\n",
    "        print(comDf_label_sen.loc[key]['Age'])"
   ]
  },
  {
   "cell_type": "code",
   "execution_count": 21,
   "metadata": {},
   "outputs": [
    {
     "name": "stdout",
     "output_type": "stream",
     "text": [
      "time: 80.1 ms\n"
     ]
    }
   ],
   "source": [
    "#once you have the id_list\n",
    "comDf_pred_sen['label_id_idx'] = id_list\n",
    "comDf_pred_sen_M = comDf_pred_sen[['user_id','min_sen', 'max_sen', 'T_or_P', 'label_id_idx']].merge(\\\n",
    "    comDf_label_sen[['label_user_id_idx', 'user_id', 'min_sen', 'max_sen', 'Age']],\\\n",
    "    how = 'left', left_on = 'label_id_idx', right_on = 'label_user_id_idx')"
   ]
  },
  {
   "cell_type": "code",
   "execution_count": 22,
   "metadata": {},
   "outputs": [
    {
     "data": {
      "text/html": [
       "<div>\n",
       "<style scoped>\n",
       "    .dataframe tbody tr th:only-of-type {\n",
       "        vertical-align: middle;\n",
       "    }\n",
       "\n",
       "    .dataframe tbody tr th {\n",
       "        vertical-align: top;\n",
       "    }\n",
       "\n",
       "    .dataframe thead th {\n",
       "        text-align: right;\n",
       "    }\n",
       "</style>\n",
       "<table border=\"1\" class=\"dataframe\">\n",
       "  <thead>\n",
       "    <tr style=\"text-align: right;\">\n",
       "      <th></th>\n",
       "      <th>user_id_x</th>\n",
       "      <th>min_sen_x</th>\n",
       "      <th>max_sen_x</th>\n",
       "      <th>T_or_P</th>\n",
       "      <th>label_id_idx</th>\n",
       "      <th>label_user_id_idx</th>\n",
       "      <th>user_id_y</th>\n",
       "      <th>min_sen_y</th>\n",
       "      <th>max_sen_y</th>\n",
       "      <th>Age</th>\n",
       "    </tr>\n",
       "  </thead>\n",
       "  <tbody>\n",
       "    <tr>\n",
       "      <td>2601</td>\n",
       "      <td>A7juUm89hlsEvzjDvtCpQg5+2cvffV/mNepQVJd0smgtpB...</td>\n",
       "      <td>2.002740</td>\n",
       "      <td>2.875591</td>\n",
       "      <td>Predicted</td>\n",
       "      <td>4137</td>\n",
       "      <td>4137</td>\n",
       "      <td>4chm7maqf1q4va0lUxWbKg5+2cvffV/mNepQVJd0smgtpB...</td>\n",
       "      <td>2.000000</td>\n",
       "      <td>2.901290</td>\n",
       "      <td>137.0</td>\n",
       "    </tr>\n",
       "    <tr>\n",
       "      <td>5306</td>\n",
       "      <td>MWMNY+4zE4E/jc0bnpTI4Q5+2cvffV/mNepQVJd0smgtpB...</td>\n",
       "      <td>0.603082</td>\n",
       "      <td>5.112028</td>\n",
       "      <td>Predicted</td>\n",
       "      <td>35926</td>\n",
       "      <td>35926</td>\n",
       "      <td>tgx3Won3qgLg3NHOG04Iwg5+2cvffV/mNepQVJd0smgtpB...</td>\n",
       "      <td>0.580822</td>\n",
       "      <td>5.112028</td>\n",
       "      <td>137.0</td>\n",
       "    </tr>\n",
       "  </tbody>\n",
       "</table>\n",
       "</div>"
      ],
      "text/plain": [
       "                                              user_id_x  min_sen_x  max_sen_x  \\\n",
       "2601  A7juUm89hlsEvzjDvtCpQg5+2cvffV/mNepQVJd0smgtpB...   2.002740   2.875591   \n",
       "5306  MWMNY+4zE4E/jc0bnpTI4Q5+2cvffV/mNepQVJd0smgtpB...   0.603082   5.112028   \n",
       "\n",
       "         T_or_P  label_id_idx  label_user_id_idx  \\\n",
       "2601  Predicted          4137               4137   \n",
       "5306  Predicted         35926              35926   \n",
       "\n",
       "                                              user_id_y  min_sen_y  max_sen_y  \\\n",
       "2601  4chm7maqf1q4va0lUxWbKg5+2cvffV/mNepQVJd0smgtpB...   2.000000   2.901290   \n",
       "5306  tgx3Won3qgLg3NHOG04Iwg5+2cvffV/mNepQVJd0smgtpB...   0.580822   5.112028   \n",
       "\n",
       "        Age  \n",
       "2601  137.0  \n",
       "5306  137.0  "
      ]
     },
     "execution_count": 22,
     "metadata": {},
     "output_type": "execute_result"
    },
    {
     "name": "stdout",
     "output_type": "stream",
     "text": [
      "time: 21.8 ms\n"
     ]
    }
   ],
   "source": [
    "#quick check\n",
    "comDf_pred_sen_M.sort_values(by = [\"Age\"], ascending= False).head(2)"
   ]
  },
  {
   "cell_type": "code",
   "execution_count": 23,
   "metadata": {},
   "outputs": [
    {
     "name": "stdout",
     "output_type": "stream",
     "text": [
      "time: 8.95 ms\n"
     ]
    }
   ],
   "source": [
    "##generate final prediction by seniorty Df to be concatenated with label_fin and job_fin\n",
    "sen_pred_fin = comDf_pred_sen_M[['user_id_x', 'Age', 'T_or_P']].rename(columns = {'user_id_x': 'user_id'}).copy()"
   ]
  },
  {
   "cell_type": "code",
   "execution_count": 24,
   "metadata": {},
   "outputs": [
    {
     "data": {
      "text/plain": [
       "13963"
      ]
     },
     "execution_count": 24,
     "metadata": {},
     "output_type": "execute_result"
    },
    {
     "name": "stdout",
     "output_type": "stream",
     "text": [
      "time: 11.5 ms\n"
     ]
    }
   ],
   "source": [
    "#quick check, should be 13963\n",
    "sen_pred_fin.user_id.nunique()"
   ]
  },
  {
   "cell_type": "code",
   "execution_count": 25,
   "metadata": {},
   "outputs": [
    {
     "name": "stdout",
     "output_type": "stream",
     "text": [
      "time: 42.8 ms\n"
     ]
    }
   ],
   "source": [
    "##generate final Df, concatentae labels and job and seniority prediction\n",
    "final_Df = pd.concat([label_fin, job_pred_fin, sen_pred_fin], axis = 0).rename(columns ={'T_or_P' : \"true or predicted\"})\n",
    "final_Df['Age'] = final_Df['Age'].astype(int)\n"
   ]
  },
  {
   "cell_type": "code",
   "execution_count": 26,
   "metadata": {},
   "outputs": [
    {
     "data": {
      "text/plain": [
       "count    100000.00000\n",
       "mean         38.00758\n",
       "std          10.79642\n",
       "min          16.00000\n",
       "25%          30.00000\n",
       "50%          35.00000\n",
       "75%          44.00000\n",
       "max         157.00000\n",
       "Name: Age, dtype: float64"
      ]
     },
     "execution_count": 26,
     "metadata": {},
     "output_type": "execute_result"
    },
    {
     "name": "stdout",
     "output_type": "stream",
     "text": [
      "time: 12 ms\n"
     ]
    }
   ],
   "source": [
    "#statistics on the overall table\n",
    "final_Df.Age.describe()"
   ]
  },
  {
   "cell_type": "code",
   "execution_count": 27,
   "metadata": {},
   "outputs": [
    {
     "data": {
      "text/plain": [
       "user_id              0\n",
       "Age                  0\n",
       "true or predicted    0\n",
       "dtype: int64"
      ]
     },
     "execution_count": 27,
     "metadata": {},
     "output_type": "execute_result"
    },
    {
     "name": "stdout",
     "output_type": "stream",
     "text": [
      "time: 19.4 ms\n"
     ]
    }
   ],
   "source": [
    "#ensure no nulls\n",
    "final_Df.isnull().sum(axis = 0)"
   ]
  },
  {
   "cell_type": "code",
   "execution_count": 28,
   "metadata": {},
   "outputs": [
    {
     "data": {
      "text/html": [
       "<div>\n",
       "<style scoped>\n",
       "    .dataframe tbody tr th:only-of-type {\n",
       "        vertical-align: middle;\n",
       "    }\n",
       "\n",
       "    .dataframe tbody tr th {\n",
       "        vertical-align: top;\n",
       "    }\n",
       "\n",
       "    .dataframe thead th {\n",
       "        text-align: right;\n",
       "    }\n",
       "</style>\n",
       "<table border=\"1\" class=\"dataframe\">\n",
       "  <thead>\n",
       "    <tr style=\"text-align: right;\">\n",
       "      <th></th>\n",
       "      <th>user_id</th>\n",
       "      <th>Age</th>\n",
       "      <th>true or predicted</th>\n",
       "    </tr>\n",
       "  </thead>\n",
       "  <tbody>\n",
       "    <tr>\n",
       "      <td>0</td>\n",
       "      <td>++5SW5MI5/h8X1hMA3QnmQ4ZM3TcQvn1bQ/jHgHWG0kf/b...</td>\n",
       "      <td>88</td>\n",
       "      <td>True</td>\n",
       "    </tr>\n",
       "    <tr>\n",
       "      <td>1</td>\n",
       "      <td>++5qk2+uEmkI/3Z4FrBwDw4ZM3TcQvn1bQ/jHgHWG0kf/b...</td>\n",
       "      <td>64</td>\n",
       "      <td>True</td>\n",
       "    </tr>\n",
       "    <tr>\n",
       "      <td>2</td>\n",
       "      <td>++6zEVtPCi83vpPTHSY2Vg5+2cvffV/mNepQVJd0smgtpB...</td>\n",
       "      <td>36</td>\n",
       "      <td>True</td>\n",
       "    </tr>\n",
       "    <tr>\n",
       "      <td>3</td>\n",
       "      <td>++7kB6m0hI1TgAPmyY1X6A5+2cvffV/mNepQVJd0smgtpB...</td>\n",
       "      <td>44</td>\n",
       "      <td>True</td>\n",
       "    </tr>\n",
       "    <tr>\n",
       "      <td>4</td>\n",
       "      <td>++8qqHNDQSyp1Yd45ROBZg5+2cvffV/mNepQVJd0smgtpB...</td>\n",
       "      <td>35</td>\n",
       "      <td>True</td>\n",
       "    </tr>\n",
       "    <tr>\n",
       "      <td>...</td>\n",
       "      <td>...</td>\n",
       "      <td>...</td>\n",
       "      <td>...</td>\n",
       "    </tr>\n",
       "    <tr>\n",
       "      <td>13958</td>\n",
       "      <td>zyPPLml7KIvEhF3Zbi3ZdA5+2cvffV/mNepQVJd0smgtpB...</td>\n",
       "      <td>24</td>\n",
       "      <td>Predicted</td>\n",
       "    </tr>\n",
       "    <tr>\n",
       "      <td>13959</td>\n",
       "      <td>zyhR8L/a8lhGdPpcw6waXQ5+2cvffV/mNepQVJd0smgtpB...</td>\n",
       "      <td>48</td>\n",
       "      <td>Predicted</td>\n",
       "    </tr>\n",
       "    <tr>\n",
       "      <td>13960</td>\n",
       "      <td>zzPGPoJIYpHbwq8OAl+mIQ4ZM3TcQvn1bQ/jHgHWG0kf/b...</td>\n",
       "      <td>36</td>\n",
       "      <td>Predicted</td>\n",
       "    </tr>\n",
       "    <tr>\n",
       "      <td>13961</td>\n",
       "      <td>zzrbQXjc2yHwbWjtQ9F3mg5+2cvffV/mNepQVJd0smgtpB...</td>\n",
       "      <td>31</td>\n",
       "      <td>Predicted</td>\n",
       "    </tr>\n",
       "    <tr>\n",
       "      <td>13962</td>\n",
       "      <td>zzuZVPanBvW09lNk1C3h+Q5+2cvffV/mNepQVJd0smgtpB...</td>\n",
       "      <td>33</td>\n",
       "      <td>Predicted</td>\n",
       "    </tr>\n",
       "  </tbody>\n",
       "</table>\n",
       "<p>100000 rows × 3 columns</p>\n",
       "</div>"
      ],
      "text/plain": [
       "                                                 user_id  Age  \\\n",
       "0      ++5SW5MI5/h8X1hMA3QnmQ4ZM3TcQvn1bQ/jHgHWG0kf/b...   88   \n",
       "1      ++5qk2+uEmkI/3Z4FrBwDw4ZM3TcQvn1bQ/jHgHWG0kf/b...   64   \n",
       "2      ++6zEVtPCi83vpPTHSY2Vg5+2cvffV/mNepQVJd0smgtpB...   36   \n",
       "3      ++7kB6m0hI1TgAPmyY1X6A5+2cvffV/mNepQVJd0smgtpB...   44   \n",
       "4      ++8qqHNDQSyp1Yd45ROBZg5+2cvffV/mNepQVJd0smgtpB...   35   \n",
       "...                                                  ...  ...   \n",
       "13958  zyPPLml7KIvEhF3Zbi3ZdA5+2cvffV/mNepQVJd0smgtpB...   24   \n",
       "13959  zyhR8L/a8lhGdPpcw6waXQ5+2cvffV/mNepQVJd0smgtpB...   48   \n",
       "13960  zzPGPoJIYpHbwq8OAl+mIQ4ZM3TcQvn1bQ/jHgHWG0kf/b...   36   \n",
       "13961  zzrbQXjc2yHwbWjtQ9F3mg5+2cvffV/mNepQVJd0smgtpB...   31   \n",
       "13962  zzuZVPanBvW09lNk1C3h+Q5+2cvffV/mNepQVJd0smgtpB...   33   \n",
       "\n",
       "      true or predicted  \n",
       "0                  True  \n",
       "1                  True  \n",
       "2                  True  \n",
       "3                  True  \n",
       "4                  True  \n",
       "...                 ...  \n",
       "13958         Predicted  \n",
       "13959         Predicted  \n",
       "13960         Predicted  \n",
       "13961         Predicted  \n",
       "13962         Predicted  \n",
       "\n",
       "[100000 rows x 3 columns]"
      ]
     },
     "execution_count": 28,
     "metadata": {},
     "output_type": "execute_result"
    },
    {
     "name": "stdout",
     "output_type": "stream",
     "text": [
      "time: 9.99 ms\n"
     ]
    }
   ],
   "source": [
    "#show final results\n",
    "final_Df"
   ]
  },
  {
   "cell_type": "code",
   "execution_count": 29,
   "metadata": {},
   "outputs": [
    {
     "name": "stdout",
     "output_type": "stream",
     "text": [
      "time: 570 µs\n"
     ]
    }
   ],
   "source": [
    "#save to csv\n",
    "#final_Df.to_csv(\"final_Df.csv\")"
   ]
  },
  {
   "cell_type": "code",
   "execution_count": 30,
   "metadata": {},
   "outputs": [
    {
     "name": "stdout",
     "output_type": "stream",
     "text": [
      "total time for notebook in seconds\n",
      "471.24815106391907\n",
      "time: 1.26 ms\n"
     ]
    }
   ],
   "source": [
    "#print time\n",
    "end = time.time()\n",
    "print(\"total time for notebook in seconds\")\n",
    "print(end - start)"
   ]
  },
  {
   "cell_type": "code",
   "execution_count": null,
   "metadata": {
    "collapsed": true
   },
   "outputs": [],
   "source": []
  }
 ],
 "metadata": {
  "kernelspec": {
   "display_name": "Python 2",
   "language": "python",
   "name": "python2"
  },
  "language_info": {
   "codemirror_mode": {
    "name": "ipython",
    "version": 2
   },
   "file_extension": ".py",
   "mimetype": "text/x-python",
   "name": "python",
   "nbconvert_exporter": "python",
   "pygments_lexer": "ipython2",
   "version": "2.7.13"
  }
 },
 "nbformat": 4,
 "nbformat_minor": 2
}
